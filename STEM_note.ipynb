{
 "cells": [
  {
   "cell_type": "markdown",
   "metadata": {},
   "source": [
    "# ase to write cif file"
   ]
  },
  {
   "cell_type": "code",
   "execution_count": null,
   "metadata": {},
   "outputs": [],
   "source": [
    "from ase.io import read, write\n",
    "\n",
    "\n",
    "atoms = read('MoS2_BL_3R.cif')\n",
    "\n",
    "\n",
    "cell = atoms.get_cell()\n",
    "\n",
    "cell[2][2] = 12.0  \n",
    "atoms.set_cell(cell)\n",
    "\n",
    "\n",
    "positions = atoms.get_positions()\n",
    "\n",
    "atoms.positions[0][2] = 12.0 * 0.20  \n",
    "atoms.positions[2][2] = 12.0 * 0.10  \n",
    "atoms.positions[3][2] = 12.0 * 0.30  \n",
    "\n",
    "\n",
    "atoms.positions[1][2] = 12.0 * 0.80  \n",
    "atoms.positions[4][2] = 12.0 * 0.70  \n",
    "atoms.positions[5][2] = 12.0 * 0.90  \n",
    "\n",
    "write('MoS2_BL_3R_new.cif', atoms)"
   ]
  }
 ],
 "metadata": {
  "language_info": {
   "name": "python"
  }
 },
 "nbformat": 4,
 "nbformat_minor": 2
}
